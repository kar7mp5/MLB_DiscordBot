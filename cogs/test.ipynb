{
 "cells": [
  {
   "cell_type": "code",
   "execution_count": 85,
   "metadata": {},
   "outputs": [],
   "source": [
    "import os\n",
    "\n",
    "\n",
    "def get_prompts():\n",
    "    \"\"\"Get prompts from file\n",
    "    \n",
    "    Returns:\n",
    "\n",
    "    \"\"\"\n",
    "    # check for prompt text file\n",
    "    file_list = [\"prompt/system_prompt.txt\", \"prompt/keyword_extract_prompt.txt\"]\n",
    "    full_file_list = list(map(lambda file_path: os.path.join(os.path.dirname(os.getcwd()), file_path), file_list))\n",
    "    del file_list\n",
    "    \n",
    "    file_exist: bool = all(map(lambda file_path: os.path.exists(file_path), full_file_list))\n",
    "\n",
    "    if file_exist:\n",
    "        for file_path in full_file_list:\n",
    "            print(f\"Loading prompt:\\033[96m{file_path}\\033[0m\")\n",
    "            with open(file_path) as f:\n",
    "                lines = f.readlines()\n",
    "                print(\"\".join(lines))\n",
    "\n",
    "    else:\n",
    "        print(\"FileNotFoundError\")"
   ]
  },
  {
   "cell_type": "code",
   "execution_count": 86,
   "metadata": {},
   "outputs": [
    {
     "name": "stdout",
     "output_type": "stream",
     "text": [
      "Loading prompt:\u001b[96m/home/kar/Projects/MLB_DiscordBot/prompt/system_prompt.txt\u001b[0m\n",
      "Please write all conversations in Korean(한국어).\n",
      "Think and write your step-by-step reasoning before responding.\n",
      "Write the article title using ## in Markdown syntax.\n",
      "Loading prompt:\u001b[96m/home/kar/Projects/MLB_DiscordBot/prompt/keyword_extract_prompt.txt\u001b[0m\n",
      "Think and write your step-by-step reasoning before responding.\n",
      "Please write only the fully spelled-out form of the acronym in English that corresponds to the following user's question, without abbreviations or additional text.\n",
      "If you don't know how to respond, just say false.\n"
     ]
    }
   ],
   "source": [
    "get_prompts()"
   ]
  }
 ],
 "metadata": {
  "kernelspec": {
   "display_name": "venv",
   "language": "python",
   "name": "python3"
  },
  "language_info": {
   "codemirror_mode": {
    "name": "ipython",
    "version": 3
   },
   "file_extension": ".py",
   "mimetype": "text/x-python",
   "name": "python",
   "nbconvert_exporter": "python",
   "pygments_lexer": "ipython3",
   "version": "3.10.12"
  }
 },
 "nbformat": 4,
 "nbformat_minor": 2
}
